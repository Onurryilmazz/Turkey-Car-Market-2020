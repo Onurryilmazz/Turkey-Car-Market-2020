{
  "nbformat": 4,
  "nbformat_minor": 0,
  "metadata": {
    "colab": {
      "name": "CarMarket.ipynb",
      "provenance": [],
      "collapsed_sections": []
    },
    "kernelspec": {
      "name": "python3",
      "display_name": "Python 3"
    }
  },
  "cells": [
    {
      "cell_type": "markdown",
      "metadata": {
        "id": "vg0U7cUFsZtG",
        "colab_type": "text"
      },
      "source": [
        "Import The Necessary Packages"
      ]
    },
    {
      "cell_type": "code",
      "metadata": {
        "id": "ASMP496T4HBy",
        "colab_type": "code",
        "colab": {}
      },
      "source": [
        "import numpy as np\n",
        "import pandas as pd\n",
        "import seaborn as sns\n",
        "import io\n",
        "from google.colab import files\n",
        "from sklearn.preprocessing import LabelEncoder\n",
        "from sklearn.impute import KNNImputer\n",
        "from sklearn.model_selection import train_test_split, GridSearchCV,cross_val_score\n",
        "from sklearn.ensemble import RandomForestRegressor,GradientBoostingRegressor\n",
        "from sklearn.metrics import mean_squared_error, r2_score\n",
        "from sklearn import metrics\n",
        "from sklearn import neighbors\n",
        "from sklearn.svm import SVR\n",
        "from warnings import filterwarnings\n",
        "filterwarnings('ignore')\n",
        "from lightgbm import LGBMRegressor\n",
        "from xgboost import XGBRegressor\n",
        "from sklearn.linear_model import LinearRegression, Lasso, ElasticNet, Ridge\n",
        "from sklearn import model_selection \n",
        "from sklearn.tree import DecisionTreeRegressor\n",
        "from sklearn.neighbors import KNeighborsRegressor\n",
        "from sklearn.neural_network import MLPRegressor\n",
        "from sklearn.preprocessing import StandardScaler\n",
        "import matplotlib.pyplot as plt"
      ],
      "execution_count": null,
      "outputs": []
    },
    {
      "cell_type": "code",
      "metadata": {
        "id": "BZtDxz7SBBZW",
        "colab_type": "code",
        "colab": {
          "resources": {
            "http://localhost:8080/nbextensions/google.colab/files.js": {
              "data": "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",
              "ok": true,
              "headers": [
                [
                  "content-type",
                  "application/javascript"
                ]
              ],
              "status": 200,
              "status_text": ""
            }
          },
          "base_uri": "https://localhost:8080/",
          "height": 72
        },
        "outputId": "462fbbc7-159b-40cd-8a48-4974f38b492a"
      },
      "source": [
        "uploaded = files.upload()        #google colab üzerinde yapılan çalışma olduğu için veri setimi içeriye yüklüyorum\n",
        "df=pd.read_csv(io.BytesIO(uploaded['turkey_car_market.csv']))"
      ],
      "execution_count": null,
      "outputs": [
        {
          "output_type": "display_data",
          "data": {
            "text/html": [
              "\n",
              "     <input type=\"file\" id=\"files-c6f0a2e1-18ee-424d-a5ae-437faab02e0a\" name=\"files[]\" multiple disabled\n",
              "        style=\"border:none\" />\n",
              "     <output id=\"result-c6f0a2e1-18ee-424d-a5ae-437faab02e0a\">\n",
              "      Upload widget is only available when the cell has been executed in the\n",
              "      current browser session. Please rerun this cell to enable.\n",
              "      </output>\n",
              "      <script src=\"/nbextensions/google.colab/files.js\"></script> "
            ],
            "text/plain": [
              "<IPython.core.display.HTML object>"
            ]
          },
          "metadata": {
            "tags": []
          }
        },
        {
          "output_type": "stream",
          "text": [
            "Saving turkey_car_market.csv to turkey_car_market (3).csv\n"
          ],
          "name": "stdout"
        }
      ]
    },
    {
      "cell_type": "code",
      "metadata": {
        "id": "TxYjcEWWCCxK",
        "colab_type": "code",
        "colab": {
          "base_uri": "https://localhost:8080/",
          "height": 34
        },
        "outputId": "d8f584eb-5fc0-4b16-981e-94b7556e8f8a"
      },
      "source": [
        "df.shape"
      ],
      "execution_count": null,
      "outputs": [
        {
          "output_type": "execute_result",
          "data": {
            "text/plain": [
              "(9044, 15)"
            ]
          },
          "metadata": {
            "tags": []
          },
          "execution_count": 45
        }
      ]
    },
    {
      "cell_type": "code",
      "metadata": {
        "id": "98XAN4oUBYeZ",
        "colab_type": "code",
        "colab": {
          "base_uri": "https://localhost:8080/",
          "height": 306
        },
        "outputId": "97b04da3-08da-4f31-c710-9a0c7fcade5c"
      },
      "source": [
        "df.head()"
      ],
      "execution_count": null,
      "outputs": [
        {
          "output_type": "execute_result",
          "data": {
            "text/html": [
              "<div>\n",
              "<style scoped>\n",
              "    .dataframe tbody tr th:only-of-type {\n",
              "        vertical-align: middle;\n",
              "    }\n",
              "\n",
              "    .dataframe tbody tr th {\n",
              "        vertical-align: top;\n",
              "    }\n",
              "\n",
              "    .dataframe thead th {\n",
              "        text-align: right;\n",
              "    }\n",
              "</style>\n",
              "<table border=\"1\" class=\"dataframe\">\n",
              "  <thead>\n",
              "    <tr style=\"text-align: right;\">\n",
              "      <th></th>\n",
              "      <th>İlan Tarihi</th>\n",
              "      <th>Marka</th>\n",
              "      <th>Arac Tip Grubu</th>\n",
              "      <th>Arac Tip</th>\n",
              "      <th>Model Yıl</th>\n",
              "      <th>Yakıt Turu</th>\n",
              "      <th>Vites</th>\n",
              "      <th>CCM</th>\n",
              "      <th>Beygir Gucu</th>\n",
              "      <th>Renk</th>\n",
              "      <th>Kasa Tipi</th>\n",
              "      <th>Kimden</th>\n",
              "      <th>Durum</th>\n",
              "      <th>Km</th>\n",
              "      <th>Fiyat</th>\n",
              "    </tr>\n",
              "  </thead>\n",
              "  <tbody>\n",
              "    <tr>\n",
              "      <th>0</th>\n",
              "      <td>27/05/2020</td>\n",
              "      <td>Jaguar</td>\n",
              "      <td>XF</td>\n",
              "      <td>2.0 D Prestige Plus</td>\n",
              "      <td>2017.0</td>\n",
              "      <td>Dizel</td>\n",
              "      <td>Otomatik Vites</td>\n",
              "      <td>1801-2000 cc</td>\n",
              "      <td>176-200 BG</td>\n",
              "      <td>Lacivert</td>\n",
              "      <td>Hatchback 5 Kapı</td>\n",
              "      <td>Galeriden</td>\n",
              "      <td>2. El</td>\n",
              "      <td>26100</td>\n",
              "      <td>634500</td>\n",
              "    </tr>\n",
              "    <tr>\n",
              "      <th>1</th>\n",
              "      <td>16/06/2020</td>\n",
              "      <td>Acura</td>\n",
              "      <td>CL</td>\n",
              "      <td>-</td>\n",
              "      <td>2015.0</td>\n",
              "      <td>Dizel</td>\n",
              "      <td>Yarı Otomatik Vites</td>\n",
              "      <td>1301-1600 cc</td>\n",
              "      <td>101-125 BG</td>\n",
              "      <td>Mavi</td>\n",
              "      <td>Sedan</td>\n",
              "      <td>Sahibinden</td>\n",
              "      <td>2. El</td>\n",
              "      <td>127000</td>\n",
              "      <td>151500</td>\n",
              "    </tr>\n",
              "    <tr>\n",
              "      <th>2</th>\n",
              "      <td>14/06/2020</td>\n",
              "      <td>Acura</td>\n",
              "      <td>CL</td>\n",
              "      <td>2.2</td>\n",
              "      <td>1994.0</td>\n",
              "      <td>Benzin/LPG</td>\n",
              "      <td>Düz Vites</td>\n",
              "      <td>1301-1600 cc</td>\n",
              "      <td>101-125 BG</td>\n",
              "      <td>Turkuaz</td>\n",
              "      <td>Sedan</td>\n",
              "      <td>Sahibinden</td>\n",
              "      <td>2. El</td>\n",
              "      <td>175000</td>\n",
              "      <td>19750</td>\n",
              "    </tr>\n",
              "    <tr>\n",
              "      <th>3</th>\n",
              "      <td>11/06/2020</td>\n",
              "      <td>Acura</td>\n",
              "      <td>CL</td>\n",
              "      <td>-</td>\n",
              "      <td>2013.0</td>\n",
              "      <td>Dizel</td>\n",
              "      <td>Düz Vites</td>\n",
              "      <td>1301-1600 cc</td>\n",
              "      <td>76-100 BG</td>\n",
              "      <td>Kahverengi</td>\n",
              "      <td>Sedan</td>\n",
              "      <td>Sahibinden</td>\n",
              "      <td>2. El</td>\n",
              "      <td>325</td>\n",
              "      <td>52000</td>\n",
              "    </tr>\n",
              "    <tr>\n",
              "      <th>4</th>\n",
              "      <td>11/06/2020</td>\n",
              "      <td>Acura</td>\n",
              "      <td>CL</td>\n",
              "      <td>2.2</td>\n",
              "      <td>2010.0</td>\n",
              "      <td>Dizel</td>\n",
              "      <td>Otomatik Vites</td>\n",
              "      <td>1801-2000 cc</td>\n",
              "      <td>151-175 BG</td>\n",
              "      <td>Beyaz</td>\n",
              "      <td>Sedan</td>\n",
              "      <td>Sahibinden</td>\n",
              "      <td>2. El</td>\n",
              "      <td>207000</td>\n",
              "      <td>148750</td>\n",
              "    </tr>\n",
              "  </tbody>\n",
              "</table>\n",
              "</div>"
            ],
            "text/plain": [
              "  İlan Tarihi   Marka Arac Tip Grubu  ...  Durum      Km   Fiyat\n",
              "0  27/05/2020  Jaguar             XF  ...  2. El   26100  634500\n",
              "1  16/06/2020   Acura             CL  ...  2. El  127000  151500\n",
              "2  14/06/2020   Acura             CL  ...  2. El  175000   19750\n",
              "3  11/06/2020   Acura             CL  ...  2. El     325   52000\n",
              "4  11/06/2020   Acura             CL  ...  2. El  207000  148750\n",
              "\n",
              "[5 rows x 15 columns]"
            ]
          },
          "metadata": {
            "tags": []
          },
          "execution_count": 46
        }
      ]
    },
    {
      "cell_type": "markdown",
      "metadata": {
        "id": "zw3TA71msvKx",
        "colab_type": "text"
      },
      "source": [
        "Eksik veri Kontrolu yapalım"
      ]
    },
    {
      "cell_type": "code",
      "metadata": {
        "id": "SOMeJR3lB80a",
        "colab_type": "code",
        "colab": {
          "base_uri": "https://localhost:8080/",
          "height": 289
        },
        "outputId": "51f71c3b-fc4c-4844-d3f2-a8b6ded8e9ce"
      },
      "source": [
        "df.isnull().sum()"
      ],
      "execution_count": null,
      "outputs": [
        {
          "output_type": "execute_result",
          "data": {
            "text/plain": [
              "İlan Tarihi       0\n",
              "Marka             0\n",
              "Arac Tip Grubu    0\n",
              "Arac Tip          0\n",
              "Model Yıl         0\n",
              "Yakıt Turu        0\n",
              "Vites             0\n",
              "CCM               0\n",
              "Beygir Gucu       0\n",
              "Renk              0\n",
              "Kasa Tipi         0\n",
              "Kimden            0\n",
              "Durum             0\n",
              "Km                0\n",
              "Fiyat             0\n",
              "dtype: int64"
            ]
          },
          "metadata": {
            "tags": []
          },
          "execution_count": 47
        }
      ]
    },
    {
      "cell_type": "code",
      "metadata": {
        "id": "JtitwfuICxp5",
        "colab_type": "code",
        "colab": {
          "base_uri": "https://localhost:8080/",
          "height": 391
        },
        "outputId": "3b35ead5-ac0e-4258-f57c-152891ab51f9"
      },
      "source": [
        "df.info()"
      ],
      "execution_count": null,
      "outputs": [
        {
          "output_type": "stream",
          "text": [
            "<class 'pandas.core.frame.DataFrame'>\n",
            "RangeIndex: 9044 entries, 0 to 9043\n",
            "Data columns (total 15 columns):\n",
            " #   Column          Non-Null Count  Dtype  \n",
            "---  ------          --------------  -----  \n",
            " 0   İlan Tarihi     9044 non-null   object \n",
            " 1   Marka           9044 non-null   object \n",
            " 2   Arac Tip Grubu  9044 non-null   object \n",
            " 3   Arac Tip        9044 non-null   object \n",
            " 4   Model Yıl       9044 non-null   float64\n",
            " 5   Yakıt Turu      9044 non-null   object \n",
            " 6   Vites           9044 non-null   object \n",
            " 7   CCM             9044 non-null   object \n",
            " 8   Beygir Gucu     9044 non-null   object \n",
            " 9   Renk            9044 non-null   object \n",
            " 10  Kasa Tipi       9044 non-null   object \n",
            " 11  Kimden          9044 non-null   object \n",
            " 12  Durum           9044 non-null   object \n",
            " 13  Km              9044 non-null   int64  \n",
            " 14  Fiyat           9044 non-null   int64  \n",
            "dtypes: float64(1), int64(2), object(12)\n",
            "memory usage: 1.0+ MB\n"
          ],
          "name": "stdout"
        }
      ]
    },
    {
      "cell_type": "markdown",
      "metadata": {
        "id": "aeN2XEYP3nCC",
        "colab_type": "text"
      },
      "source": [
        "## Verimizi Görselleştirelim"
      ]
    },
    {
      "cell_type": "markdown",
      "metadata": {
        "id": "7qjvrqHa4Hp5",
        "colab_type": "text"
      },
      "source": [
        "1- Yakıt Türüne Göre Araç Fiyatlarına bakalım"
      ]
    },
    {
      "cell_type": "code",
      "metadata": {
        "id": "yl2wngWk3sFn",
        "colab_type": "code",
        "colab": {
          "base_uri": "https://localhost:8080/",
          "height": 369
        },
        "outputId": "b24cdc6c-5ff3-49ce-8310-887c4cfb3369"
      },
      "source": [
        "sns.catplot(x=\"Yakıt Turu\", y=\"Fiyat\", kind=\"bar\", data=df);"
      ],
      "execution_count": null,
      "outputs": [
        {
          "output_type": "display_data",
          "data": {
            "image/png": "[encoded data removed]",
            "text/plain": [
              "<Figure size 360x360 with 1 Axes>"
            ]
          },
          "metadata": {
            "tags": [],
            "needs_background": "light"
          }
        }
      ]
    },
    {
      "cell_type": "markdown",
      "metadata": {
        "id": "qAYvZQLw5bvL",
        "colab_type": "text"
      },
      "source": [
        "2-Vites Türüne Göre Araç Fiyatları"
      ]
    },
    {
      "cell_type": "code",
      "metadata": {
        "id": "oQ2pmxhD5fsI",
        "colab_type": "code",
        "colab": {
          "base_uri": "https://localhost:8080/",
          "height": 369
        },
        "outputId": "e63fd7f7-0710-4e53-abc4-acaf1b414a40"
      },
      "source": [
        "sns.catplot(x=\"Vites\", y=\"Fiyat\", kind=\"bar\", data=df, palette=\"ch:.25\");"
      ],
      "execution_count": null,
      "outputs": [
        {
          "output_type": "display_data",
          "data": {
            "image/png": "[encoded data removed]",
            "text/plain": [
              "<Figure size 360x360 with 1 Axes>"
            ]
          },
          "metadata": {
            "tags": [],
            "needs_background": "light"
          }
        }
      ]
    },
    {
      "cell_type": "markdown",
      "metadata": {
        "id": "3k30Ji1l5oLH",
        "colab_type": "text"
      },
      "source": [
        "3- Araç Durumuna Göre Fiyatlar"
      ]
    },
    {
      "cell_type": "code",
      "metadata": {
        "id": "wfWVYBYt5rnr",
        "colab_type": "code",
        "colab": {
          "base_uri": "https://localhost:8080/",
          "height": 369
        },
        "outputId": "5e3a3af5-1347-4798-fdf2-b21b4c468279"
      },
      "source": [
        "sns.catplot(x=\"Durum\", y=\"Fiyat\", kind=\"bar\", data=df);"
      ],
      "execution_count": null,
      "outputs": [
        {
          "output_type": "display_data",
          "data": {
            "image/png": "[encoded data removed]",
            "text/plain": [
              "<Figure size 360x360 with 1 Axes>"
            ]
          },
          "metadata": {
            "tags": [],
            "needs_background": "light"
          }
        }
      ]
    },
    {
      "cell_type": "markdown",
      "metadata": {
        "id": "0OTNLZOH58io",
        "colab_type": "text"
      },
      "source": [
        "Görüldüğü üzere 0 km araçların fiyatlarında çok büyük bir fark var. Bir de satıcıya göre fiyatları inceleyelim"
      ]
    },
    {
      "cell_type": "code",
      "metadata": {
        "id": "arfvGMZT6Gmz",
        "colab_type": "code",
        "colab": {
          "base_uri": "https://localhost:8080/",
          "height": 369
        },
        "outputId": "433f02fc-12fb-422d-fbc9-8fb15dc2b91f"
      },
      "source": [
        "sns.catplot(x=\"Kimden\", y=\"Fiyat\", kind=\"bar\", data=df, palette=\"ch:.25\");"
      ],
      "execution_count": null,
      "outputs": [
        {
          "output_type": "display_data",
          "data": {
            "image/png": "[encoded data removed]",
            "text/plain": [
              "<Figure size 360x360 with 1 Axes>"
            ]
          },
          "metadata": {
            "tags": [],
            "needs_background": "light"
          }
        }
      ]
    },
    {
      "cell_type": "markdown",
      "metadata": {
        "id": "p49PcK8Ws4oW",
        "colab_type": "text"
      },
      "source": [
        "## Kolonları inceleyelim"
      ]
    },
    {
      "cell_type": "markdown",
      "metadata": {
        "id": "tZzSsCCi7RRG",
        "colab_type": "text"
      },
      "source": [
        "Kolonlarlardaki benzersiz kaç kategorik veri var bunları inceleyeceğiz"
      ]
    },
    {
      "cell_type": "code",
      "metadata": {
        "id": "KwWQdFhVC2MG",
        "colab_type": "code",
        "colab": {
          "base_uri": "https://localhost:8080/",
          "height": 119
        },
        "outputId": "52d15a74-ef6c-4759-8329-2d474eb23d60"
      },
      "source": [
        "print(len(df['Marka'].unique()))               \n",
        "markalar=df['Marka'].unique()\n",
        "print(markalar)"
      ],
      "execution_count": null,
      "outputs": [
        {
          "output_type": "stream",
          "text": [
            "36\n",
            "['Jaguar' 'Acura' 'Jeep' 'Hyundai' 'Alfa Romeo' 'Audi' 'Mercedes'\n",
            " 'Volkswagen' 'Land Rover' 'BMW' 'Dacia' 'Renault' 'Peugeot' 'Chevrolet'\n",
            " 'Chery' 'Citroen' 'Chrysler' 'Fiat' 'Ford' 'Honda' 'Geely' 'Infiniti'\n",
            " 'Isuzu' 'Kia' 'Lada' 'Maserati' 'Mazda' 'Mini' 'Mitsubishi' 'Nissan'\n",
            " 'Opel' 'Porsche' 'Rover' 'Seat' 'Skoda' 'Tofaş']\n"
          ],
          "name": "stdout"
        }
      ]
    },
    {
      "cell_type": "code",
      "metadata": {
        "id": "ECKdn9W-C846",
        "colab_type": "code",
        "colab": {
          "base_uri": "https://localhost:8080/",
          "height": 51
        },
        "outputId": "c445a314-7925-4bfc-997f-db59c5ebc0aa"
      },
      "source": [
        "print(len(df['Arac Tip'].unique()))\n",
        "car_type=df['Arac Tip'].unique()\n",
        "print(car_type)"
      ],
      "execution_count": null,
      "outputs": [
        {
          "output_type": "stream",
          "text": [
            "1759\n",
            "['2.0 D Prestige Plus' '-' '2.2' ... 'SLX ie' 'SL' 'L']\n"
          ],
          "name": "stdout"
        }
      ]
    },
    {
      "cell_type": "markdown",
      "metadata": {
        "id": "anLQZTEatPFO",
        "colab_type": "text"
      },
      "source": [
        "\" - \" ile tanımlanmış bir araç tipi var. Bu modelimiz için uygun bir veri değil. Bu veriden kaç tane olduğunu öğrenelim ve ilerleyen adımlarda üzerinde ona göre işlem yapalım"
      ]
    },
    {
      "cell_type": "code",
      "metadata": {
        "id": "0YNh417SDIEd",
        "colab_type": "code",
        "colab": {
          "base_uri": "https://localhost:8080/",
          "height": 34
        },
        "outputId": "14a196e0-2844-4508-9c94-ec02b0ddeb35"
      },
      "source": [
        "len(df[df['Arac Tip']=='-'])  "
      ],
      "execution_count": null,
      "outputs": [
        {
          "output_type": "execute_result",
          "data": {
            "text/plain": [
              "55"
            ]
          },
          "metadata": {
            "tags": []
          },
          "execution_count": 55
        }
      ]
    },
    {
      "cell_type": "code",
      "metadata": {
        "id": "DdIF17dKDKlf",
        "colab_type": "code",
        "colab": {
          "base_uri": "https://localhost:8080/",
          "height": 68
        },
        "outputId": "6c9bfc31-375a-4cb7-d069-936bd2843e9d"
      },
      "source": [
        "print(len(df['Yakıt Turu'].unique()))\n",
        "yakıt_type=df['Yakıt Turu'].unique()\n",
        "yakıt_type"
      ],
      "execution_count": null,
      "outputs": [
        {
          "output_type": "stream",
          "text": [
            "5\n"
          ],
          "name": "stdout"
        },
        {
          "output_type": "execute_result",
          "data": {
            "text/plain": [
              "array(['Dizel', 'Benzin/LPG', 'Hibrit', 'Benzin', 'Elektrik'],\n",
              "      dtype=object)"
            ]
          },
          "metadata": {
            "tags": []
          },
          "execution_count": 56
        }
      ]
    },
    {
      "cell_type": "code",
      "metadata": {
        "id": "mvE_80sfDQq1",
        "colab_type": "code",
        "colab": {
          "base_uri": "https://localhost:8080/",
          "height": 51
        },
        "outputId": "c9676b5d-c956-47a4-92a2-c06d280ae135"
      },
      "source": [
        "print(len(df['Vites'].unique()))\n",
        "vites_type=df['Vites'].unique()\n",
        "vites_type"
      ],
      "execution_count": null,
      "outputs": [
        {
          "output_type": "stream",
          "text": [
            "3\n"
          ],
          "name": "stdout"
        },
        {
          "output_type": "execute_result",
          "data": {
            "text/plain": [
              "array(['Otomatik Vites', 'Yarı Otomatik Vites', 'Düz Vites'], dtype=object)"
            ]
          },
          "metadata": {
            "tags": []
          },
          "execution_count": 57
        }
      ]
    },
    {
      "cell_type": "markdown",
      "metadata": {
        "id": "6HIrQHkOtsvx",
        "colab_type": "text"
      },
      "source": [
        "Araç Tipi Kolonunda olduğu gibi Beygir Gücü ve CCM kolonlarında da uygun olmayan veriler mevcut. Bunlarında sayısını öğrenelim."
      ]
    },
    {
      "cell_type": "code",
      "metadata": {
        "id": "9ysrzvEWDTuN",
        "colab_type": "code",
        "colab": {
          "base_uri": "https://localhost:8080/",
          "height": 153
        },
        "outputId": "1803f9af-52fd-430d-bf57-733f945227d9"
      },
      "source": [
        "print('Farklı CCM değer sayısı : ', len(df['CCM'].unique()),'\\n')\n",
        "CCM_type=df['CCM'].unique()\n",
        "print(CCM_type,'\\n')\n",
        "print('Bilmiyorum değeri girilmiş CCM sayısı : ', len(df[df['CCM']=='Bilmiyorum']))"
      ],
      "execution_count": null,
      "outputs": [
        {
          "output_type": "stream",
          "text": [
            "Farklı CCM değer sayısı :  15 \n",
            "\n",
            "['1801-2000 cc' '1301-1600 cc' '1601-1800 cc' '1300 cc ve altı'\n",
            " '2501-3000 cc' 'Bilmiyorum' '2001-2500 cc' '3501-4000 cc' '3001-3500 cc'\n",
            " '4001-4500 cc' '-' '6001 cc ve üzeri' '5501-6000 cc' '5001-5500 cc'\n",
            " '4501-5000 cc'] \n",
            "\n",
            "Bilmiyorum değeri girilmiş CCM sayısı :  108\n"
          ],
          "name": "stdout"
        }
      ]
    },
    {
      "cell_type": "code",
      "metadata": {
        "id": "9NrZpWczDa8z",
        "colab_type": "code",
        "colab": {
          "base_uri": "https://localhost:8080/",
          "height": 153
        },
        "outputId": "49de603a-f252-43c5-b6b7-b8f8763c21df"
      },
      "source": [
        "print('Farklı Beygir gucu değer sayısı : ', len(df['Beygir Gucu'].unique()),'\\n')\n",
        "power=df['Beygir Gucu'].unique()\n",
        "print(power,'\\n')\n",
        "print('Bilmiyorum değeri girilmiş Beygir Gucu sayısı : ', len(df[df['Beygir Gucu']=='Bilmiyorum']))"
      ],
      "execution_count": null,
      "outputs": [
        {
          "output_type": "stream",
          "text": [
            "Farklı Beygir gucu değer sayısı :  19 \n",
            "\n",
            "['176-200 BG' '101-125 BG' '76-100 BG' '151-175 BG' '100 BG ve altı'\n",
            " '201-225 BG' '126-150 BG' 'Bilmiyorum' '276-300 BG' '226-250 BG'\n",
            " '251-275 BG' '301-325 BG' '326-350 BG' '376-400 BG' '51-75 BG' '-'\n",
            " '601 BG ve üzeri' '50 BG ve altı' '451-475 BG'] \n",
            "\n",
            "Bilmiyorum değeri girilmiş Beygir Gucu sayısı :  5549\n"
          ],
          "name": "stdout"
        }
      ]
    },
    {
      "cell_type": "markdown",
      "metadata": {
        "id": "jr55oDCZt-9a",
        "colab_type": "text"
      },
      "source": [
        "Araçların Model Yılı yerine yaşlarıyla işlem yapmak bize daha kolaylık sağlayacaktır. Buna Göre bir kolon oluşturalım"
      ]
    },
    {
      "cell_type": "code",
      "metadata": {
        "id": "w4dys1kAEDmE",
        "colab_type": "code",
        "colab": {
          "base_uri": "https://localhost:8080/",
          "height": 119
        },
        "outputId": "d89921dd-5081-485d-c7de-cdcd6a56e273"
      },
      "source": [
        "df['car_age']=2020-df['Model Yıl']     #modelin yılı yerine yaşı ile işlem yapıcağız\n",
        "df['car_age'].head()"
      ],
      "execution_count": null,
      "outputs": [
        {
          "output_type": "execute_result",
          "data": {
            "text/plain": [
              "0     3.0\n",
              "1     5.0\n",
              "2    26.0\n",
              "3     7.0\n",
              "4    10.0\n",
              "Name: car_age, dtype: float64"
            ]
          },
          "metadata": {
            "tags": []
          },
          "execution_count": 60
        }
      ]
    },
    {
      "cell_type": "markdown",
      "metadata": {
        "id": "xvxYGsfuuL0A",
        "colab_type": "text"
      },
      "source": [
        "Yaş değişkenini oluşturduğumuz için Model Yılını artık silebiliriz. Bütün araçlarında aynı yıl içinde ilan verildiğini düşünürsek işlem kolaylığı açısından İlan tarihinide silebiliriz"
      ]
    },
    {
      "cell_type": "code",
      "metadata": {
        "id": "MzrvfjOOEWIP",
        "colab_type": "code",
        "colab": {
          "base_uri": "https://localhost:8080/",
          "height": 85
        },
        "outputId": "9bbacf86-222e-44b6-dbc4-f81456fbb4db"
      },
      "source": [
        "df.drop(['Model Yıl'], axis=1,inplace=True)    #işimize yaramayan kolonları siliyoruz\n",
        "df.drop(['İlan Tarihi'],axis=1,inplace=True)\n",
        "df.columns"
      ],
      "execution_count": null,
      "outputs": [
        {
          "output_type": "execute_result",
          "data": {
            "text/plain": [
              "Index(['Marka', 'Arac Tip Grubu', 'Arac Tip', 'Yakıt Turu', 'Vites', 'CCM',\n",
              "       'Beygir Gucu', 'Renk', 'Kasa Tipi', 'Kimden', 'Durum', 'Km', 'Fiyat',\n",
              "       'car_age'],\n",
              "      dtype='object')"
            ]
          },
          "metadata": {
            "tags": []
          },
          "execution_count": 61
        }
      ]
    },
    {
      "cell_type": "markdown",
      "metadata": {
        "id": "BVHI-ziNufvc",
        "colab_type": "text"
      },
      "source": [
        "## Uygun olmayan Verileri Temizleme"
      ]
    },
    {
      "cell_type": "markdown",
      "metadata": {
        "id": "XUqsgxImuknf",
        "colab_type": "text"
      },
      "source": [
        "Öncelikle araç tipindeki '-' ile girilmiş verileri düzenleyeceğiz. Bu şekilde az sayıda veri var. Ancak bu kolonda çeşitlilik çok fazla olduğundan dolayı bu verileri silmek yerine 'diğer' adlı bir değişkene atacağız. "
      ]
    },
    {
      "cell_type": "code",
      "metadata": {
        "id": "yp9P4YwbEZzW",
        "colab_type": "code",
        "colab": {
          "base_uri": "https://localhost:8080/",
          "height": 34
        },
        "outputId": "d284c513-45b7-4f77-b81c-fc813f65eada"
      },
      "source": [
        "df['Arac Tip']=df['Arac Tip'].str.replace('-','Diger')\n",
        "len(df[df['Arac Tip']=='Diger'])"
      ],
      "execution_count": null,
      "outputs": [
        {
          "output_type": "execute_result",
          "data": {
            "text/plain": [
              "55"
            ]
          },
          "metadata": {
            "tags": []
          },
          "execution_count": 62
        }
      ]
    },
    {
      "cell_type": "markdown",
      "metadata": {
        "id": "XrHqQ6x7vHhV",
        "colab_type": "text"
      },
      "source": [
        "CCM kolonunda da 'Bilmiyorum' değeri girilmiş 108 tane verimiz bulunuyordu. Datasetimizin büyüklüğün düşünürsek bu değerleri silmek modelimizi çok fazla etkilemeyecektir. Çeşitlilik az olduğundan dolayı doldurma işlemide yapmamız modelimizin başka tarafa kaymasına sebep olabilir."
      ]
    },
    {
      "cell_type": "code",
      "metadata": {
        "id": "gKJv0Om_E6kl",
        "colab_type": "code",
        "colab": {}
      },
      "source": [
        "CCM_drop=df[df['CCM']=='Bilmiyorum'].index\n",
        "df.drop(CCM_drop,axis=0,inplace=True)"
      ],
      "execution_count": null,
      "outputs": []
    },
    {
      "cell_type": "markdown",
      "metadata": {
        "id": "m8Uasyf2xwMn",
        "colab_type": "text"
      },
      "source": [
        "NOT: Beygir Gücü kolonunda 5549 adet Bilmiyorum değeri girilmiş kolon bulunuyordu. Bu kolonları En yakın komşularına göre(KNN) biraz sonra doldurma işlemi yapacağız."
      ]
    },
    {
      "cell_type": "code",
      "metadata": {
        "id": "5v4e1NtLE_xi",
        "colab_type": "code",
        "colab": {
          "base_uri": "https://localhost:8080/",
          "height": 34
        },
        "outputId": "cb3a03a2-2209-454b-8f7f-49c10293b15d"
      },
      "source": [
        "df.shape"
      ],
      "execution_count": null,
      "outputs": [
        {
          "output_type": "execute_result",
          "data": {
            "text/plain": [
              "(8936, 14)"
            ]
          },
          "metadata": {
            "tags": []
          },
          "execution_count": 64
        }
      ]
    },
    {
      "cell_type": "markdown",
      "metadata": {
        "id": "CuEmBD7Dy-MM",
        "colab_type": "text"
      },
      "source": [
        "Kategorik Değerleri Modelimize vermek için sayısal forma döndüreceğiz\n",
        "## Label Encoder"
      ]
    },
    {
      "cell_type": "markdown",
      "metadata": {
        "id": "u7T4_pLlzWR5",
        "colab_type": "text"
      },
      "source": [
        "İlk önce Araba Markalarını sayısal forma döndürüp daha sonra hangi sayının hangi modele denk geldiğini tablo şeklinde göstereceğiz"
      ]
    },
    {
      "cell_type": "code",
      "metadata": {
        "id": "dm6H2b5THHxr",
        "colab_type": "code",
        "colab": {}
      },
      "source": [
        "l_encoder1=LabelEncoder()\n",
        "df['Marka']=l_encoder1.fit_transform(df['Marka'])"
      ],
      "execution_count": null,
      "outputs": []
    },
    {
      "cell_type": "code",
      "metadata": {
        "id": "v55etx2IHYHo",
        "colab_type": "code",
        "colab": {}
      },
      "source": [
        "cars={}\n",
        "car_name = list(l_encoder1.inverse_transform([i for i in range(35)]))\n",
        "for i,x in enumerate(car_name):\n",
        "  if i not in cars.keys():\n",
        "    cars[i] =x"
      ],
      "execution_count": null,
      "outputs": []
    },
    {
      "cell_type": "code",
      "metadata": {
        "id": "H6BmpHdzKK8G",
        "colab_type": "code",
        "colab": {
          "base_uri": "https://localhost:8080/",
          "height": 204
        },
        "outputId": "d65bb8bf-5cd6-4230-e90e-7243273a78d3"
      },
      "source": [
        "pd.DataFrame(cars.items(), columns=['label_values', 'car_name']).head()"
      ],
      "execution_count": null,
      "outputs": [
        {
          "output_type": "execute_result",
          "data": {
            "text/html": [
              "<div>\n",
              "<style scoped>\n",
              "    .dataframe tbody tr th:only-of-type {\n",
              "        vertical-align: middle;\n",
              "    }\n",
              "\n",
              "    .dataframe tbody tr th {\n",
              "        vertical-align: top;\n",
              "    }\n",
              "\n",
              "    .dataframe thead th {\n",
              "        text-align: right;\n",
              "    }\n",
              "</style>\n",
              "<table border=\"1\" class=\"dataframe\">\n",
              "  <thead>\n",
              "    <tr style=\"text-align: right;\">\n",
              "      <th></th>\n",
              "      <th>label_values</th>\n",
              "      <th>car_name</th>\n",
              "    </tr>\n",
              "  </thead>\n",
              "  <tbody>\n",
              "    <tr>\n",
              "      <th>0</th>\n",
              "      <td>0</td>\n",
              "      <td>Acura</td>\n",
              "    </tr>\n",
              "    <tr>\n",
              "      <th>1</th>\n",
              "      <td>1</td>\n",
              "      <td>Alfa Romeo</td>\n",
              "    </tr>\n",
              "    <tr>\n",
              "      <th>2</th>\n",
              "      <td>2</td>\n",
              "      <td>Audi</td>\n",
              "    </tr>\n",
              "    <tr>\n",
              "      <th>3</th>\n",
              "      <td>3</td>\n",
              "      <td>BMW</td>\n",
              "    </tr>\n",
              "    <tr>\n",
              "      <th>4</th>\n",
              "      <td>4</td>\n",
              "      <td>Chevrolet</td>\n",
              "    </tr>\n",
              "  </tbody>\n",
              "</table>\n",
              "</div>"
            ],
            "text/plain": [
              "   label_values    car_name\n",
              "0             0       Acura\n",
              "1             1  Alfa Romeo\n",
              "2             2        Audi\n",
              "3             3         BMW\n",
              "4             4   Chevrolet"
            ]
          },
          "metadata": {
            "tags": []
          },
          "execution_count": 67
        }
      ]
    },
    {
      "cell_type": "markdown",
      "metadata": {
        "id": "meJS086GzkAn",
        "colab_type": "text"
      },
      "source": [
        "Kalan Diğer Değişkenlerede Label Encoder işlemini uyguluyoruz"
      ]
    },
    {
      "cell_type": "code",
      "metadata": {
        "id": "j74Yamk-FD35",
        "colab_type": "code",
        "colab": {}
      },
      "source": [
        "l_encoder = LabelEncoder()\n",
        "columns = ['Arac Tip Grubu', 'Arac Tip','Yakıt Turu', 'Vites', 'CCM', 'Beygir Gucu', 'Renk', 'Kasa Tipi','Kimden', 'Durum']\n",
        "for i in columns:\n",
        "  df[i]=l_encoder.fit_transform(df[i])"
      ],
      "execution_count": null,
      "outputs": []
    },
    {
      "cell_type": "code",
      "metadata": {
        "id": "H5TfIkUAFtkO",
        "colab_type": "code",
        "colab": {
          "base_uri": "https://localhost:8080/",
          "height": 204
        },
        "outputId": "52e21cfa-f127-4723-d7f2-2b2ef86f06ee"
      },
      "source": [
        "df.head()"
      ],
      "execution_count": null,
      "outputs": [
        {
          "output_type": "execute_result",
          "data": {
            "text/html": [
              "<div>\n",
              "<style scoped>\n",
              "    .dataframe tbody tr th:only-of-type {\n",
              "        vertical-align: middle;\n",
              "    }\n",
              "\n",
              "    .dataframe tbody tr th {\n",
              "        vertical-align: top;\n",
              "    }\n",
              "\n",
              "    .dataframe thead th {\n",
              "        text-align: right;\n",
              "    }\n",
              "</style>\n",
              "<table border=\"1\" class=\"dataframe\">\n",
              "  <thead>\n",
              "    <tr style=\"text-align: right;\">\n",
              "      <th></th>\n",
              "      <th>Marka</th>\n",
              "      <th>Arac Tip Grubu</th>\n",
              "      <th>Arac Tip</th>\n",
              "      <th>Yakıt Turu</th>\n",
              "      <th>Vites</th>\n",
              "      <th>CCM</th>\n",
              "      <th>Beygir Gucu</th>\n",
              "      <th>Renk</th>\n",
              "      <th>Kasa Tipi</th>\n",
              "      <th>Kimden</th>\n",
              "      <th>Durum</th>\n",
              "      <th>Km</th>\n",
              "      <th>Fiyat</th>\n",
              "      <th>car_age</th>\n",
              "    </tr>\n",
              "  </thead>\n",
              "  <tbody>\n",
              "    <tr>\n",
              "      <th>0</th>\n",
              "      <td>15</td>\n",
              "      <td>374</td>\n",
              "      <td>1082</td>\n",
              "      <td>2</td>\n",
              "      <td>1</td>\n",
              "      <td>4</td>\n",
              "      <td>5</td>\n",
              "      <td>17</td>\n",
              "      <td>5</td>\n",
              "      <td>0</td>\n",
              "      <td>1</td>\n",
              "      <td>26100</td>\n",
              "      <td>634500</td>\n",
              "      <td>3.0</td>\n",
              "    </tr>\n",
              "    <tr>\n",
              "      <th>1</th>\n",
              "      <td>0</td>\n",
              "      <td>126</td>\n",
              "      <td>1612</td>\n",
              "      <td>2</td>\n",
              "      <td>2</td>\n",
              "      <td>2</td>\n",
              "      <td>2</td>\n",
              "      <td>18</td>\n",
              "      <td>9</td>\n",
              "      <td>1</td>\n",
              "      <td>1</td>\n",
              "      <td>127000</td>\n",
              "      <td>151500</td>\n",
              "      <td>5.0</td>\n",
              "    </tr>\n",
              "    <tr>\n",
              "      <th>2</th>\n",
              "      <td>0</td>\n",
              "      <td>126</td>\n",
              "      <td>1171</td>\n",
              "      <td>1</td>\n",
              "      <td>0</td>\n",
              "      <td>2</td>\n",
              "      <td>2</td>\n",
              "      <td>23</td>\n",
              "      <td>9</td>\n",
              "      <td>1</td>\n",
              "      <td>1</td>\n",
              "      <td>175000</td>\n",
              "      <td>19750</td>\n",
              "      <td>26.0</td>\n",
              "    </tr>\n",
              "    <tr>\n",
              "      <th>3</th>\n",
              "      <td>0</td>\n",
              "      <td>126</td>\n",
              "      <td>1612</td>\n",
              "      <td>2</td>\n",
              "      <td>0</td>\n",
              "      <td>2</td>\n",
              "      <td>17</td>\n",
              "      <td>13</td>\n",
              "      <td>9</td>\n",
              "      <td>1</td>\n",
              "      <td>1</td>\n",
              "      <td>325</td>\n",
              "      <td>52000</td>\n",
              "      <td>7.0</td>\n",
              "    </tr>\n",
              "    <tr>\n",
              "      <th>4</th>\n",
              "      <td>0</td>\n",
              "      <td>126</td>\n",
              "      <td>1171</td>\n",
              "      <td>2</td>\n",
              "      <td>1</td>\n",
              "      <td>4</td>\n",
              "      <td>4</td>\n",
              "      <td>4</td>\n",
              "      <td>9</td>\n",
              "      <td>1</td>\n",
              "      <td>1</td>\n",
              "      <td>207000</td>\n",
              "      <td>148750</td>\n",
              "      <td>10.0</td>\n",
              "    </tr>\n",
              "  </tbody>\n",
              "</table>\n",
              "</div>"
            ],
            "text/plain": [
              "   Marka  Arac Tip Grubu  Arac Tip  Yakıt Turu  ...  Durum      Km   Fiyat  car_age\n",
              "0     15             374      1082           2  ...      1   26100  634500      3.0\n",
              "1      0             126      1612           2  ...      1  127000  151500      5.0\n",
              "2      0             126      1171           1  ...      1  175000   19750     26.0\n",
              "3      0             126      1612           2  ...      1     325   52000      7.0\n",
              "4      0             126      1171           2  ...      1  207000  148750     10.0\n",
              "\n",
              "[5 rows x 14 columns]"
            ]
          },
          "metadata": {
            "tags": []
          },
          "execution_count": 69
        }
      ]
    },
    {
      "cell_type": "code",
      "metadata": {
        "id": "9mHWW_jjF1k9",
        "colab_type": "code",
        "colab": {
          "base_uri": "https://localhost:8080/",
          "height": 374
        },
        "outputId": "258494f8-09cc-44db-b83c-199ea5edfd13"
      },
      "source": [
        "df.info()"
      ],
      "execution_count": null,
      "outputs": [
        {
          "output_type": "stream",
          "text": [
            "<class 'pandas.core.frame.DataFrame'>\n",
            "Int64Index: 8936 entries, 0 to 9043\n",
            "Data columns (total 14 columns):\n",
            " #   Column          Non-Null Count  Dtype  \n",
            "---  ------          --------------  -----  \n",
            " 0   Marka           8936 non-null   int64  \n",
            " 1   Arac Tip Grubu  8936 non-null   int64  \n",
            " 2   Arac Tip        8936 non-null   int64  \n",
            " 3   Yakıt Turu      8936 non-null   int64  \n",
            " 4   Vites           8936 non-null   int64  \n",
            " 5   CCM             8936 non-null   int64  \n",
            " 6   Beygir Gucu     8936 non-null   int64  \n",
            " 7   Renk            8936 non-null   int64  \n",
            " 8   Kasa Tipi       8936 non-null   int64  \n",
            " 9   Kimden          8936 non-null   int64  \n",
            " 10  Durum           8936 non-null   int64  \n",
            " 11  Km              8936 non-null   int64  \n",
            " 12  Fiyat           8936 non-null   int64  \n",
            " 13  car_age         8936 non-null   float64\n",
            "dtypes: float64(1), int64(13)\n",
            "memory usage: 1.0 MB\n"
          ],
          "name": "stdout"
        }
      ]
    },
    {
      "cell_type": "markdown",
      "metadata": {
        "id": "m9ZeNIpTzr2v",
        "colab_type": "text"
      },
      "source": [
        "Yukarıda Bahsettiğim Beygir Gücü Kolonunu doldurma zamanı geldi. \n"
      ]
    },
    {
      "cell_type": "markdown",
      "metadata": {
        "id": "mggQWEPd0EKy",
        "colab_type": "text"
      },
      "source": [
        "Label Encoder işlemi uyguladığımız için şuanda ***\"Bilmiyorum\"*** değerine sahip verinin karşılı 18. İlk önce Bunları NaN formuna döndürüyoruz"
      ]
    },
    {
      "cell_type": "code",
      "metadata": {
        "id": "v3bq-E6uGEnx",
        "colab_type": "code",
        "colab": {
          "base_uri": "https://localhost:8080/",
          "height": 272
        },
        "outputId": "da73ddfd-6887-498b-90d7-eda24588ebd1"
      },
      "source": [
        "df['Beygir Gucu']=df['Beygir Gucu'].replace(18,np.nan)  \n",
        "df.isnull().sum()"
      ],
      "execution_count": null,
      "outputs": [
        {
          "output_type": "execute_result",
          "data": {
            "text/plain": [
              "Marka                0\n",
              "Arac Tip Grubu       0\n",
              "Arac Tip             0\n",
              "Yakıt Turu           0\n",
              "Vites                0\n",
              "CCM                  0\n",
              "Beygir Gucu       5484\n",
              "Renk                 0\n",
              "Kasa Tipi            0\n",
              "Kimden               0\n",
              "Durum                0\n",
              "Km                   0\n",
              "Fiyat                0\n",
              "car_age              0\n",
              "dtype: int64"
            ]
          },
          "metadata": {
            "tags": []
          },
          "execution_count": 71
        }
      ]
    },
    {
      "cell_type": "markdown",
      "metadata": {
        "id": "VlKcXHQN0PZC",
        "colab_type": "text"
      },
      "source": [
        "Şimdi de bu Nan Değere sahip verileri KNNImputer kullanarak 5 komşu sayısına göre dolduracağız"
      ]
    },
    {
      "cell_type": "code",
      "metadata": {
        "id": "3Ed9rPUQLxii",
        "colab_type": "code",
        "colab": {
          "base_uri": "https://localhost:8080/",
          "height": 272
        },
        "outputId": "0641d70a-a2bc-44b0-889f-74b7606187a1"
      },
      "source": [
        "imputer = KNNImputer(n_neighbors=5)\n",
        "df['Beygir Gucu']=imputer.fit_transform(df[['Beygir Gucu']])\n",
        "df.isnull().sum()"
      ],
      "execution_count": null,
      "outputs": [
        {
          "output_type": "execute_result",
          "data": {
            "text/plain": [
              "Marka             0\n",
              "Arac Tip Grubu    0\n",
              "Arac Tip          0\n",
              "Yakıt Turu        0\n",
              "Vites             0\n",
              "CCM               0\n",
              "Beygir Gucu       0\n",
              "Renk              0\n",
              "Kasa Tipi         0\n",
              "Kimden            0\n",
              "Durum             0\n",
              "Km                0\n",
              "Fiyat             0\n",
              "car_age           0\n",
              "dtype: int64"
            ]
          },
          "metadata": {
            "tags": []
          },
          "execution_count": 72
        }
      ]
    },
    {
      "cell_type": "code",
      "metadata": {
        "id": "XHPa59weNRB1",
        "colab_type": "code",
        "colab": {}
      },
      "source": [
        "df['Beygir Gucu'] = round(df['Beygir Gucu'])   #doldururken float olarak bıraktığı için tam değere yuvarlıyorum"
      ],
      "execution_count": null,
      "outputs": []
    },
    {
      "cell_type": "markdown",
      "metadata": {
        "id": "Djx2TBUh0dDl",
        "colab_type": "text"
      },
      "source": [
        "## Aykırı değerleri Silmek"
      ]
    },
    {
      "cell_type": "code",
      "metadata": {
        "id": "_Am4OBr5NU7C",
        "colab_type": "code",
        "colab": {
          "base_uri": "https://localhost:8080/",
          "height": 85
        },
        "outputId": "208c33b5-ab7f-479a-e335-211c063b5196"
      },
      "source": [
        "q1 = df[\"Fiyat\"].quantile(0.25)\n",
        "q3 = df[\"Fiyat\"].quantile(0.75)      \n",
        "\n",
        "IOC = q3 - q1\n",
        "\n",
        "alt_sınır = q1 - 1.5*IOC\n",
        "üst_sınır = q3 + 1.5*IOC\n",
        "\n",
        "sınır = (df[\"Fiyat\"] < alt_sınır) | (df[\"Fiyat\"] > üst_sınır)\n",
        "df[\"Aykırı_Deger\"] = sınır\n",
        "print('Aykırı Değer Sayısı =>\\n',df[\"Aykırı_Deger\"].value_counts())\n",
        "df = df.loc[df[\"Aykırı_Deger\"] == False]\n",
        "del df[\"Aykırı_Deger\"]"
      ],
      "execution_count": null,
      "outputs": [
        {
          "output_type": "stream",
          "text": [
            "Aykırı Değer Sayısı =>\n",
            " False    8189\n",
            "True      747\n",
            "Name: Aykırı_Deger, dtype: int64\n"
          ],
          "name": "stdout"
        }
      ]
    },
    {
      "cell_type": "code",
      "metadata": {
        "id": "iB80_9QTOBI6",
        "colab_type": "code",
        "colab": {}
      },
      "source": [
        "y=df['Fiyat']\n",
        "x=df.drop(['Fiyat'],axis=1)"
      ],
      "execution_count": null,
      "outputs": []
    },
    {
      "cell_type": "code",
      "metadata": {
        "id": "HE8AYaTZOYxw",
        "colab_type": "code",
        "colab": {
          "base_uri": "https://localhost:8080/",
          "height": 204
        },
        "outputId": "c8634ccb-ccf5-46ad-8cec-d77f83313b5e"
      },
      "source": [
        "x_train, x_test, y_train, y_test = train_test_split(x, y, test_size = 0.20, random_state = 42)\n",
        "x_train.head()"
      ],
      "execution_count": null,
      "outputs": [
        {
          "output_type": "execute_result",
          "data": {
            "text/html": [
              "<div>\n",
              "<style scoped>\n",
              "    .dataframe tbody tr th:only-of-type {\n",
              "        vertical-align: middle;\n",
              "    }\n",
              "\n",
              "    .dataframe tbody tr th {\n",
              "        vertical-align: top;\n",
              "    }\n",
              "\n",
              "    .dataframe thead th {\n",
              "        text-align: right;\n",
              "    }\n",
              "</style>\n",
              "<table border=\"1\" class=\"dataframe\">\n",
              "  <thead>\n",
              "    <tr style=\"text-align: right;\">\n",
              "      <th></th>\n",
              "      <th>Marka</th>\n",
              "      <th>Arac Tip Grubu</th>\n",
              "      <th>Arac Tip</th>\n",
              "      <th>Yakıt Turu</th>\n",
              "      <th>Vites</th>\n",
              "      <th>CCM</th>\n",
              "      <th>Beygir Gucu</th>\n",
              "      <th>Renk</th>\n",
              "      <th>Kasa Tipi</th>\n",
              "      <th>Kimden</th>\n",
              "      <th>Durum</th>\n",
              "      <th>Km</th>\n",
              "      <th>car_age</th>\n",
              "    </tr>\n",
              "  </thead>\n",
              "  <tbody>\n",
              "    <tr>\n",
              "      <th>4243</th>\n",
              "      <td>19</td>\n",
              "      <td>192</td>\n",
              "      <td>1746</td>\n",
              "      <td>0</td>\n",
              "      <td>2</td>\n",
              "      <td>4</td>\n",
              "      <td>7.0</td>\n",
              "      <td>4</td>\n",
              "      <td>0</td>\n",
              "      <td>0</td>\n",
              "      <td>1</td>\n",
              "      <td>76000</td>\n",
              "      <td>7.0</td>\n",
              "    </tr>\n",
              "    <tr>\n",
              "      <th>2447</th>\n",
              "      <td>9</td>\n",
              "      <td>190</td>\n",
              "      <td>888</td>\n",
              "      <td>2</td>\n",
              "      <td>0</td>\n",
              "      <td>7</td>\n",
              "      <td>17.0</td>\n",
              "      <td>4</td>\n",
              "      <td>9</td>\n",
              "      <td>0</td>\n",
              "      <td>1</td>\n",
              "      <td>130000</td>\n",
              "      <td>5.0</td>\n",
              "    </tr>\n",
              "    <tr>\n",
              "      <th>2332</th>\n",
              "      <td>8</td>\n",
              "      <td>255</td>\n",
              "      <td>553</td>\n",
              "      <td>1</td>\n",
              "      <td>0</td>\n",
              "      <td>2</td>\n",
              "      <td>2.0</td>\n",
              "      <td>11</td>\n",
              "      <td>9</td>\n",
              "      <td>1</td>\n",
              "      <td>1</td>\n",
              "      <td>216000</td>\n",
              "      <td>16.0</td>\n",
              "    </tr>\n",
              "    <tr>\n",
              "      <th>3417</th>\n",
              "      <td>12</td>\n",
              "      <td>382</td>\n",
              "      <td>59</td>\n",
              "      <td>1</td>\n",
              "      <td>0</td>\n",
              "      <td>1</td>\n",
              "      <td>15.0</td>\n",
              "      <td>11</td>\n",
              "      <td>5</td>\n",
              "      <td>1</td>\n",
              "      <td>1</td>\n",
              "      <td>111000</td>\n",
              "      <td>9.0</td>\n",
              "    </tr>\n",
              "    <tr>\n",
              "      <th>539</th>\n",
              "      <td>3</td>\n",
              "      <td>41</td>\n",
              "      <td>1304</td>\n",
              "      <td>0</td>\n",
              "      <td>1</td>\n",
              "      <td>3</td>\n",
              "      <td>3.0</td>\n",
              "      <td>9</td>\n",
              "      <td>9</td>\n",
              "      <td>0</td>\n",
              "      <td>1</td>\n",
              "      <td>50000</td>\n",
              "      <td>5.0</td>\n",
              "    </tr>\n",
              "  </tbody>\n",
              "</table>\n",
              "</div>"
            ],
            "text/plain": [
              "      Marka  Arac Tip Grubu  Arac Tip  ...  Durum      Km  car_age\n",
              "4243     19             192      1746  ...      1   76000      7.0\n",
              "2447      9             190       888  ...      1  130000      5.0\n",
              "2332      8             255       553  ...      1  216000     16.0\n",
              "3417     12             382        59  ...      1  111000      9.0\n",
              "539       3              41      1304  ...      1   50000      5.0\n",
              "\n",
              "[5 rows x 13 columns]"
            ]
          },
          "metadata": {
            "tags": []
          },
          "execution_count": 76
        }
      ]
    },
    {
      "cell_type": "markdown",
      "metadata": {
        "id": "bCBPxBdd0kDH",
        "colab_type": "text"
      },
      "source": [
        "Verilerimizi sayısal forma döndürdük ancak hepsi farklı aralıklarda değer alıyor. Bunları daha düzenli şekilde modelimize vermeliyiz. Bu yüzden kolonlarımıza Standard Scaler işlemi uygulayacağız"
      ]
    },
    {
      "cell_type": "code",
      "metadata": {
        "id": "I9I0SkO4W5op",
        "colab_type": "code",
        "colab": {}
      },
      "source": [
        "sc_X = StandardScaler()\n",
        "x_train = sc_X.fit_transform(x_train)\n",
        "x_test = sc_X.transform(x_test)"
      ],
      "execution_count": null,
      "outputs": []
    },
    {
      "cell_type": "markdown",
      "metadata": {
        "id": "YPQO00fW0ypc",
        "colab_type": "text"
      },
      "source": [
        "Veri setimizi ayırdık. şimdi modelimizi eğitme sırası geldi. ancak hangi modeli kullanarak eğiticeğimize karar vermemiz gerekiyor. bu yüzden tüm modelleri sırayla deneyen bir fonksiyon yazıyoruz. Bu fonksiyon dışardan(verdiğimiz listeden) aldığı fonksiyonları tek tek deniyor ve ekrana model score ve mean squared error değerini yazıyor. Buradan elde edeceğimiz değere göre hangi model üzerinden ilerleyeceğimizi seçeceğiz."
      ]
    },
    {
      "cell_type": "code",
      "metadata": {
        "id": "YX69S1wdOm4A",
        "colab_type": "code",
        "colab": {
          "base_uri": "https://localhost:8080/",
          "height": 238
        },
        "outputId": "890276f5-4499-42a6-d7a9-1e72fb1653a4"
      },
      "source": [
        "modeller=[]\n",
        "scores=[]\n",
        "def compML(alg,x_train,y_train,x_test,y_test):\n",
        "    model=alg().fit(x_train,y_train)\n",
        "    y_pred=model.predict(x_test)\n",
        "    RMSE= np.sqrt(mean_squared_error(y_test,y_pred))\n",
        "    model_ismi= alg.__name__\n",
        "    model_score = model.score(x_test,y_test)\n",
        "    scores.append(model_score*100 if model_score > 0 else 0)\n",
        "    modeller.append(model_ismi)\n",
        "    print(model_ismi ,\" Modeli Test Hatası => \", RMSE,' |  Model Score => ', model_score*100)\n",
        "\n",
        "models=[LGBMRegressor, Lasso,\n",
        "        XGBRegressor, LinearRegression,\n",
        "        GradientBoostingRegressor,\n",
        "        RandomForestRegressor, ElasticNet,\n",
        "        DecisionTreeRegressor, Ridge,\n",
        "        MLPRegressor,\n",
        "        KNeighborsRegressor, \n",
        "        SVR]\n",
        "\n",
        "for i in models:\n",
        "    compML(i,x_train,y_train,x_test,y_test) "
      ],
      "execution_count": null,
      "outputs": [
        {
          "output_type": "stream",
          "text": [
            "LGBMRegressor  Modeli Test Hatası =>  14831.18488609659  |  Model Score =>  93.9174304981272\n",
            "Lasso  Modeli Test Hatası =>  35395.81300803671  |  Model Score =>  65.35511161271837\n",
            "[16:19:01] WARNING: /workspace/src/objective/regression_obj.cu:152: reg:linear is now deprecated in favor of reg:squarederror.\n",
            "XGBRegressor  Modeli Test Hatası =>  20481.764326106415  |  Model Score =>  88.39967620847757\n",
            "LinearRegression  Modeli Test Hatası =>  35395.83346156064  |  Model Score =>  65.3550715735048\n",
            "GradientBoostingRegressor  Modeli Test Hatası =>  20503.133059996024  |  Model Score =>  88.37545822240412\n",
            "RandomForestRegressor  Modeli Test Hatası =>  16051.171717280013  |  Model Score =>  92.87559066335173\n",
            "ElasticNet  Modeli Test Hatası =>  37556.190703509055  |  Model Score =>  60.99696042757766\n",
            "DecisionTreeRegressor  Modeli Test Hatası =>  22527.73014855047  |  Model Score =>  85.9663625442339\n",
            "Ridge  Modeli Test Hatası =>  35395.75611704879  |  Model Score =>  65.35522298071224\n",
            "MLPRegressor  Modeli Test Hatası =>  104773.43789456297  |  Model Score =>  -203.55526600989205\n",
            "KNeighborsRegressor  Modeli Test Hatası =>  24926.557007995896  |  Model Score =>  82.81854363991087\n",
            "SVR  Modeli Test Hatası =>  62110.89905040295  |  Model Score =>  -6.677053995016213\n"
          ],
          "name": "stdout"
        }
      ]
    },
    {
      "cell_type": "code",
      "metadata": {
        "id": "7vweSU2-jO4R",
        "colab_type": "code",
        "colab": {
          "base_uri": "https://localhost:8080/",
          "height": 607
        },
        "outputId": "1062610c-c060-4e4f-d0b0-f701a51818cf"
      },
      "source": [
        "plt.figure(figsize=(15,10))\n",
        "ax = sns.barplot(x=scores, y=modeller, palette=\"ch:4.5,-.7,dark=.3\")\n",
        "ax.set_title(\"Model-Skor Tablosu\")\n",
        "ax.set_ylabel(\"Modeller\")\n",
        "ax.set_ylabel(\"Score\")\n",
        "plt.show()"
      ],
      "execution_count": null,
      "outputs": [
        {
          "output_type": "display_data",
          "data": {
            "image/png": "[encoded data removed]",
            "text/plain": [
              "<Figure size 1080x720 with 1 Axes>"
            ]
          },
          "metadata": {
            "tags": [],
            "needs_background": "light"
          }
        }
      ]
    },
    {
      "cell_type": "markdown",
      "metadata": {
        "id": "vFko-MSS1b2Y",
        "colab_type": "text"
      },
      "source": [
        "İlkel Eğitim aşamasını tamamlamış olduk. Buna Göre En iyi sonuçları LightGBM gösterdi. Bu model üzerinden ilerleyeceğiz ve model tuning işlemi gerçekleştireceğiz."
      ]
    },
    {
      "cell_type": "code",
      "metadata": {
        "id": "YxSYUaa4PxX6",
        "colab_type": "code",
        "colab": {
          "base_uri": "https://localhost:8080/",
          "height": 85
        },
        "outputId": "39034bed-368b-44ca-9884-5fda0233fe70"
      },
      "source": [
        "lgbm=LGBMRegressor()     \n",
        "lgbm.fit(x_train,y_train)\n",
        "\n",
        "lgbm_pred = lgbm.predict(x_test)\n",
        "\n",
        "model_score = lgbm.score(x_test,y_test)\n",
        "r2_skor = r2_score(y_test, lgbm_pred)\n",
        "hata_skor = np.sqrt(mean_squared_error(y_test, lgbm_pred))\n",
        "ev = metrics.explained_variance_score(y_test, lgbm_pred)\n",
        "\n",
        "print(\"Model Score: \", model_score*100)\n",
        "print(\"R2_skoru: \", r2_skor)\n",
        "print(\"Hata Kare: \", hata_skor)\n",
        "print(\"Explained Variance : \", ev)"
      ],
      "execution_count": null,
      "outputs": [
        {
          "output_type": "stream",
          "text": [
            "Model Score:  93.9174304981272\n",
            "R2_skoru:  0.9391743049812722\n",
            "Hata Kare:  14831.18488609659\n",
            "Explained Variance :  0.9391743241100291\n"
          ],
          "name": "stdout"
        }
      ]
    },
    {
      "cell_type": "markdown",
      "metadata": {
        "id": "wBB2MXfz1uF-",
        "colab_type": "text"
      },
      "source": [
        "Modelimizi optimize etmek için bir çok hiperparametre deneyeceğiz. Burada hangi değereri denemek istediğimizi bir dict formatında GridSearchCV fonksiyonuna veriyoruz"
      ]
    },
    {
      "cell_type": "code",
      "metadata": {
        "id": "zfAwXQRAOw7n",
        "colab_type": "code",
        "colab": {
          "base_uri": "https://localhost:8080/",
          "height": 204
        },
        "outputId": "38974e4a-8b53-4b71-bc86-e3ca4cdffbb4"
      },
      "source": [
        "lgbm_params={'learning_rate':[0.01, 0.1, 0.5],   \n",
        "            'n_estimators':[200,500,1000],\n",
        "            'max_depth':[5, 7, 10],\n",
        "             'colsample_bytree':[0.7, 0.9, 1.0],\n",
        "             'subsample': [0.5, 0.7, 0.6, 0.4]\n",
        "             }\n",
        "lgbm_cv_model=GridSearchCV(lgbm,lgbm_params,cv=10,n_jobs=-1,verbose=2).fit(x_train,y_train)"
      ],
      "execution_count": null,
      "outputs": [
        {
          "output_type": "stream",
          "text": [
            "Fitting 10 folds for each of 324 candidates, totalling 3240 fits\n"
          ],
          "name": "stdout"
        },
        {
          "output_type": "stream",
          "text": [
            "[Parallel(n_jobs=-1)]: Using backend LokyBackend with 2 concurrent workers.\n",
            "[Parallel(n_jobs=-1)]: Done  37 tasks      | elapsed:    8.5s\n",
            "[Parallel(n_jobs=-1)]: Done 158 tasks      | elapsed:  1.1min\n",
            "[Parallel(n_jobs=-1)]: Done 361 tasks      | elapsed:  3.5min\n",
            "[Parallel(n_jobs=-1)]: Done 644 tasks      | elapsed:  5.4min\n",
            "[Parallel(n_jobs=-1)]: Done 1009 tasks      | elapsed:  8.2min\n",
            "[Parallel(n_jobs=-1)]: Done 1454 tasks      | elapsed: 12.9min\n",
            "[Parallel(n_jobs=-1)]: Done 1981 tasks      | elapsed: 17.1min\n",
            "[Parallel(n_jobs=-1)]: Done 2588 tasks      | elapsed: 23.6min\n",
            "[Parallel(n_jobs=-1)]: Done 3240 out of 3240 | elapsed: 30.0min finished\n"
          ],
          "name": "stderr"
        }
      ]
    },
    {
      "cell_type": "code",
      "metadata": {
        "id": "7dnMs0slPj8g",
        "colab_type": "code",
        "colab": {
          "base_uri": "https://localhost:8080/",
          "height": 102
        },
        "outputId": "8f59e9d1-cd05-41cb-c527-bc56290f8f43"
      },
      "source": [
        "lgbm_cv_model.best_params_"
      ],
      "execution_count": null,
      "outputs": [
        {
          "output_type": "execute_result",
          "data": {
            "text/plain": [
              "{'colsample_bytree': 0.9,\n",
              " 'learning_rate': 0.1,\n",
              " 'max_depth': 10,\n",
              " 'n_estimators': 500,\n",
              " 'subsample': 0.5}"
            ]
          },
          "metadata": {
            "tags": []
          },
          "execution_count": 167
        }
      ]
    },
    {
      "cell_type": "markdown",
      "metadata": {
        "id": "rNK0xRLw2GAc",
        "colab_type": "text"
      },
      "source": [
        "Model Tuning işlemimiz tamamlandı. En iyi parametrelere ulaştık. şimdi bunları modelimize vererek tekrardan eğiteceğiz. Böylelikle optimize final modelimize ulaşmış olacağız"
      ]
    },
    {
      "cell_type": "code",
      "metadata": {
        "id": "V2u4t6O4WwRW",
        "colab_type": "code",
        "colab": {
          "base_uri": "https://localhost:8080/",
          "height": 102
        },
        "outputId": "e75009f0-2995-4a52-d7fb-d8017accaf84"
      },
      "source": [
        "lgbm_tuned=LGBMRegressor(learning_rate = lgbm_cv_model.best_params_['learning_rate'],\n",
        "                        max_depth = lgbm_cv_model.best_params_['max_depth'],\n",
        "                        n_estimators = lgbm_cv_model.best_params_['n_estimators'],\n",
        "                        colsample_bytree = lgbm_cv_model.best_params_['colsample_bytree'],\n",
        "                        subsample=lgbm_cv_model.best_params_['subsample']).fit(x_train,y_train)\n",
        "\n",
        "y_pred=lgbm_tuned.predict(x_test)\n",
        "\n",
        "model_score = lgbm_tuned.score(x_test,y_test)\n",
        "r2_skor = r2_score(y_test, y_pred)\n",
        "hata_skor = np.sqrt(mean_squared_error(y_test, y_pred))\n",
        "adjusted_r2_skor = 1 - (1-r2_skor)*(len(y_test)-1)/(len(y_test)-x_test.shape[1]-1)\n",
        "ev = metrics.explained_variance_score(y_test, y_pred)\n",
        "\n",
        "print(\"Model scoru : \", model_score*100)\n",
        "print(\"R2_skoru: \", r2_skor)\n",
        "print(\"Hata Kare: \", hata_skor)\n",
        "print(\"Adjusted_R2_skoru : \", adjusted_r2_skor)\n",
        "print(\"Explained Variance : \", ev)"
      ],
      "execution_count": null,
      "outputs": [
        {
          "output_type": "stream",
          "text": [
            "Model scoru :  94.72769638319976\n",
            "R2_skoru:  0.9472769638319976\n",
            "Hata Kare:  13808.05521076068\n",
            "Adjusted_R2_skoru :  0.9468549198232635\n",
            "Explained Variance :  0.9472886515936138\n"
          ],
          "name": "stdout"
        }
      ]
    },
    {
      "cell_type": "code",
      "metadata": {
        "id": "yy9ZaGEfW1ML",
        "colab_type": "code",
        "colab": {
          "base_uri": "https://localhost:8080/",
          "height": 296
        },
        "outputId": "b2a7deb1-651a-4c3b-9f13-a2bc4d9a5752"
      },
      "source": [
        "sns.scatterplot(x=y_test,y=y_pred)"
      ],
      "execution_count": null,
      "outputs": [
        {
          "output_type": "execute_result",
          "data": {
            "text/plain": [
              "<matplotlib.axes._subplots.AxesSubplot at 0x7fd43f66bf28>"
            ]
          },
          "metadata": {
            "tags": []
          },
          "execution_count": 169
        },
        {
          "output_type": "display_data",
          "data": {
            "image/png": "[encoded data removed]",
            "text/plain": [
              "<Figure size 432x288 with 1 Axes>"
            ]
          },
          "metadata": {
            "tags": [],
            "needs_background": "light"
          }
        }
      ]
    },
    {
      "cell_type": "code",
      "metadata": {
        "id": "OEWE3Xy8W9M9",
        "colab_type": "code",
        "colab": {
          "base_uri": "https://localhost:8080/",
          "height": 469
        },
        "outputId": "14c1948d-90c7-4dc2-c77e-20e2b12398bb"
      },
      "source": [
        "sns.jointplot(x=y_test, y=y_pred,  kind='reg',\n",
        "                  joint_kws={'line_kws':{'color':'cyan'}})"
      ],
      "execution_count": null,
      "outputs": [
        {
          "output_type": "execute_result",
          "data": {
            "text/plain": [
              "<seaborn.axisgrid.JointGrid at 0x7fd43f65acc0>"
            ]
          },
          "metadata": {
            "tags": []
          },
          "execution_count": 170
        },
        {
          "output_type": "display_data",
          "data": {
            "image/png": "[encoded data removed]",
            "text/plain": [
              "<Figure size 432x432 with 3 Axes>"
            ]
          },
          "metadata": {
            "tags": [],
            "needs_background": "light"
          }
        }
      ]
    },
    {
      "cell_type": "markdown",
      "metadata": {
        "id": "7PyfxVjX2Vc9",
        "colab_type": "text"
      },
      "source": [
        "## Gerçek Değerler ile Tahminler Arasındaki 10 aracın tablosu"
      ]
    },
    {
      "cell_type": "code",
      "metadata": {
        "id": "kVMGcjJ9W_bw",
        "colab_type": "code",
        "colab": {
          "base_uri": "https://localhost:8080/",
          "height": 359
        },
        "outputId": "3acdf953-4138-4810-9061-62b1f2d8fcaf"
      },
      "source": [
        "sonuc = pd.DataFrame({'Gerçek Değerler': np.array(y_test).flatten(), 'Tahminler': y_pred.flatten(),'Fark':np.array(y_test).flatten()-y_pred.flatten()})\n",
        "sonuc.Fark=round(sonuc.Fark)\n",
        "sonuc.head(10)"
      ],
      "execution_count": null,
      "outputs": [
        {
          "output_type": "execute_result",
          "data": {
            "text/html": [
              "<div>\n",
              "<style scoped>\n",
              "    .dataframe tbody tr th:only-of-type {\n",
              "        vertical-align: middle;\n",
              "    }\n",
              "\n",
              "    .dataframe tbody tr th {\n",
              "        vertical-align: top;\n",
              "    }\n",
              "\n",
              "    .dataframe thead th {\n",
              "        text-align: right;\n",
              "    }\n",
              "</style>\n",
              "<table border=\"1\" class=\"dataframe\">\n",
              "  <thead>\n",
              "    <tr style=\"text-align: right;\">\n",
              "      <th></th>\n",
              "      <th>Gerçek Değerler</th>\n",
              "      <th>Tahminler</th>\n",
              "      <th>Fark</th>\n",
              "    </tr>\n",
              "  </thead>\n",
              "  <tbody>\n",
              "    <tr>\n",
              "      <th>0</th>\n",
              "      <td>60000</td>\n",
              "      <td>53726.354250</td>\n",
              "      <td>6274.0</td>\n",
              "    </tr>\n",
              "    <tr>\n",
              "      <th>1</th>\n",
              "      <td>79750</td>\n",
              "      <td>83099.037386</td>\n",
              "      <td>-3349.0</td>\n",
              "    </tr>\n",
              "    <tr>\n",
              "      <th>2</th>\n",
              "      <td>64000</td>\n",
              "      <td>67548.646150</td>\n",
              "      <td>-3549.0</td>\n",
              "    </tr>\n",
              "    <tr>\n",
              "      <th>3</th>\n",
              "      <td>55900</td>\n",
              "      <td>56456.296692</td>\n",
              "      <td>-556.0</td>\n",
              "    </tr>\n",
              "    <tr>\n",
              "      <th>4</th>\n",
              "      <td>79000</td>\n",
              "      <td>57827.140995</td>\n",
              "      <td>21173.0</td>\n",
              "    </tr>\n",
              "    <tr>\n",
              "      <th>5</th>\n",
              "      <td>44500</td>\n",
              "      <td>39282.070928</td>\n",
              "      <td>5218.0</td>\n",
              "    </tr>\n",
              "    <tr>\n",
              "      <th>6</th>\n",
              "      <td>197000</td>\n",
              "      <td>156586.266330</td>\n",
              "      <td>40414.0</td>\n",
              "    </tr>\n",
              "    <tr>\n",
              "      <th>7</th>\n",
              "      <td>57500</td>\n",
              "      <td>48863.425295</td>\n",
              "      <td>8637.0</td>\n",
              "    </tr>\n",
              "    <tr>\n",
              "      <th>8</th>\n",
              "      <td>76000</td>\n",
              "      <td>75784.045810</td>\n",
              "      <td>216.0</td>\n",
              "    </tr>\n",
              "    <tr>\n",
              "      <th>9</th>\n",
              "      <td>134750</td>\n",
              "      <td>135379.135138</td>\n",
              "      <td>-629.0</td>\n",
              "    </tr>\n",
              "  </tbody>\n",
              "</table>\n",
              "</div>"
            ],
            "text/plain": [
              "   Gerçek Değerler      Tahminler     Fark\n",
              "0            60000   53726.354250   6274.0\n",
              "1            79750   83099.037386  -3349.0\n",
              "2            64000   67548.646150  -3549.0\n",
              "3            55900   56456.296692   -556.0\n",
              "4            79000   57827.140995  21173.0\n",
              "5            44500   39282.070928   5218.0\n",
              "6           197000  156586.266330  40414.0\n",
              "7            57500   48863.425295   8637.0\n",
              "8            76000   75784.045810    216.0\n",
              "9           134750  135379.135138   -629.0"
            ]
          },
          "metadata": {
            "tags": []
          },
          "execution_count": 181
        }
      ]
    },
    {
      "cell_type": "code",
      "metadata": {
        "id": "oHCzWV7dXFie",
        "colab_type": "code",
        "colab": {}
      },
      "source": [
        ""
      ],
      "execution_count": null,
      "outputs": []
    }
  ]
}